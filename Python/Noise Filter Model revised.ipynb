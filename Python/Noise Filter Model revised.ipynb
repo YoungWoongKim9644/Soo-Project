{
 "cells": [
  {
   "cell_type": "markdown",
   "metadata": {},
   "source": [
    "## Noise Filter Model\n",
    "    특정 문장에 대해서 불필요한 성분을 제거."
   ]
  },
  {
   "cell_type": "code",
   "execution_count": 94,
   "metadata": {},
   "outputs": [],
   "source": [
    "def Noise_Filter(sentence,slash = False, flag = False, remove = False):\n",
    "    NOISE = ['o', 'n', 'u', 'b', 'l']\n",
    "    trans = [['#','%','+','-'] ,['샾','퍼센트','더하기','빼기']]\n",
    "    trans = dict(zip(trans[0],trans[1]))\n",
    "    \n",
    "    \n",
    "    for a in sentence[::-1]:\n",
    "        if a == '/':\n",
    "            slash = True\n",
    "        if slash == True and a in NOISE:\n",
    "            sentence = sentence.strip('/'+a)\n",
    "        if a != '/':\n",
    "            slash = False  \n",
    "        if a in trans.keys() :\n",
    "            sentence = sentence.replace(a , trans[a])\n",
    "            \n",
    "    for a in sentence :\n",
    "        if flag == True and not a.isalpha() and (a is not ' ' and a is not ')'):\n",
    "            print(\"come!\")\n",
    "            remove = True\n",
    "        if a == '(' and flag == False:\n",
    "            open_idx = sentence.find(a)\n",
    "            flag = True\n",
    "        if a == ')' and flag == True:\n",
    "            close_idx = sentence.find(a)\n",
    "            flag = False\n",
    "            print(\"remove :\",remove)\n",
    "            if remove == True:\n",
    "                print(\"here1\")\n",
    "                sentence = sentence.replace(sentence[open_idx:close_idx+1],\"\")\n",
    "            elif remove == False:\n",
    "                print(\"here2\")\n",
    "                sentence = sentence.replace(sentence[open_idx],\"\").replace(sentence[close_idx],\"\")\n",
    "            remove = False    \n",
    "        #print(a , flag, remove)\n",
    "    \n",
    "    return sentence"
   ]
  },
  {
   "cell_type": "code",
   "execution_count": 95,
   "metadata": {
    "scrolled": true
   },
   "outputs": [
    {
     "name": "stdout",
     "output_type": "stream",
     "text": [
      "come!\n",
      "come!\n",
      "remove : True\n",
      "here1\n",
      "remove : False\n",
      "here2\n"
     ]
    },
    {
     "data": {
      "text/plain": [
       "' 근데 칠십 퍼센트가 커 보이긴  하는데 이백 벌다 칠십 퍼센트 백 사십 벌면 빡셀걸? '"
      ]
     },
     "execution_count": 95,
     "metadata": {},
     "output_type": "execute_result"
    }
   ],
   "source": [
    "sentence = \"o/ 근데 칠십 퍼센트가 커 보이긴 (70%) 하는데 이백 벌다 (칠십 퍼센트) 백 사십 벌면 빡셀걸? b/\"\n",
    "sentence = Noise_Filter(sentence)\n",
    "sentence"
   ]
  },
  {
   "cell_type": "code",
   "execution_count": 81,
   "metadata": {},
   "outputs": [
    {
     "data": {
      "text/plain": [
       "False"
      ]
     },
     "execution_count": 81,
     "metadata": {},
     "output_type": "execute_result"
    }
   ],
   "source": [
    "'('.isalpha()"
   ]
  },
  {
   "cell_type": "code",
   "execution_count": null,
   "metadata": {},
   "outputs": [],
   "source": []
  }
 ],
 "metadata": {
  "kernelspec": {
   "display_name": "Python 3",
   "language": "python",
   "name": "python3"
  },
  "language_info": {
   "codemirror_mode": {
    "name": "ipython",
    "version": 3
   },
   "file_extension": ".py",
   "mimetype": "text/x-python",
   "name": "python",
   "nbconvert_exporter": "python",
   "pygments_lexer": "ipython3",
   "version": "3.6.9"
  }
 },
 "nbformat": 4,
 "nbformat_minor": 2
}
